{
 "cells": [
  {
   "cell_type": "code",
   "execution_count": 1,
   "id": "b3a34f62",
   "metadata": {},
   "outputs": [
    {
     "ename": "ModuleNotFoundError",
     "evalue": "No module named 'pykobo'",
     "output_type": "error",
     "traceback": [
      "\u001b[1;31m---------------------------------------------------------------------------\u001b[0m",
      "\u001b[1;31mModuleNotFoundError\u001b[0m                       Traceback (most recent call last)",
      "\u001b[1;32m~\\AppData\\Local\\Temp\\ipykernel_19760\\2411529561.py\u001b[0m in \u001b[0;36m<module>\u001b[1;34m\u001b[0m\n\u001b[1;32m----> 1\u001b[1;33m \u001b[1;32mimport\u001b[0m \u001b[0mpykobo\u001b[0m\u001b[1;33m\u001b[0m\u001b[1;33m\u001b[0m\u001b[0m\n\u001b[0m\u001b[0;32m      2\u001b[0m \u001b[1;33m\u001b[0m\u001b[0m\n\u001b[0;32m      3\u001b[0m \u001b[1;33m\u001b[0m\u001b[0m\n\u001b[0;32m      4\u001b[0m \u001b[0mURL_KOBO\u001b[0m \u001b[1;33m=\u001b[0m \u001b[1;34m\"https://kf.kobotoolbox.org/\"\u001b[0m\u001b[1;33m\u001b[0m\u001b[1;33m\u001b[0m\u001b[0m\n\u001b[0;32m      5\u001b[0m \u001b[0mAPI_VERSION\u001b[0m \u001b[1;33m=\u001b[0m \u001b[1;36m2\u001b[0m\u001b[1;33m\u001b[0m\u001b[1;33m\u001b[0m\u001b[0m\n",
      "\u001b[1;31mModuleNotFoundError\u001b[0m: No module named 'pykobo'"
     ]
    }
   ],
   "source": [
    "import pykobo\n",
    "\n",
    "\n",
    "URL_KOBO = \"https://kf.kobotoolbox.org/\"\n",
    "API_VERSION = 2\n",
    "MYTOKEN = \"0b5ea7e127dd9636f078f78223f7a4a64e36293b\"\n",
    "\n",
    "# Initialize the Manager object\n",
    "km = pykobo.Manager(url=URL_KOBO, api_version=API_VERSION, token=MYTOKEN)\n",
    "\n",
    "my_forms = km.get_forms()\n",
    "\n",
    "  \n",
    "uid = 'aJx9xjKPvGMQqco5EYUN3b'\n",
    "\n",
    "my_form = km.get_form(uid)\n",
    "\n",
    "my_form.fetch_data()\n",
    "\n",
    "print(my_form.data)"
   ]
  },
  {
   "cell_type": "code",
   "execution_count": null,
   "id": "31725e66",
   "metadata": {},
   "outputs": [],
   "source": []
  }
 ],
 "metadata": {
  "kernelspec": {
   "display_name": "Python 3 (ipykernel)",
   "language": "python",
   "name": "python3"
  },
  "language_info": {
   "codemirror_mode": {
    "name": "ipython",
    "version": 3
   },
   "file_extension": ".py",
   "mimetype": "text/x-python",
   "name": "python",
   "nbconvert_exporter": "python",
   "pygments_lexer": "ipython3",
   "version": "3.7.16"
  }
 },
 "nbformat": 4,
 "nbformat_minor": 5
}
